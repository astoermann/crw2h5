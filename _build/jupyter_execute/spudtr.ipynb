{
 "cells": [
  {
   "cell_type": "markdown",
   "metadata": {},
   "source": [
    "# Spudtr\n",
    "Use [spudtr](https://kutaslab.github.io/spudtr) to do some processing on your epoched file.\n",
    "\n",
    "## Conda environment\n",
    "*always activate a conda environment before starting. This notebook uses [mkconda](https://anaconda.org/kutaslab/mkconda) 0.0.11*"
   ]
  },
  {
   "cell_type": "raw",
   "metadata": {},
   "source": [
    "conda activate mkconda-0.0.11"
   ]
  },
  {
   "cell_type": "markdown",
   "metadata": {},
   "source": [
    "## Python Libraries"
   ]
  },
  {
   "cell_type": "code",
   "execution_count": 1,
   "metadata": {
    "execution": {
     "iopub.execute_input": "2020-08-22T00:57:26.004593Z",
     "iopub.status.busy": "2020-08-22T00:57:26.003993Z",
     "iopub.status.idle": "2020-08-22T00:57:27.344650Z",
     "shell.execute_reply": "2020-08-22T00:57:27.345418Z"
    }
   },
   "outputs": [],
   "source": [
    "import pandas as pd\n",
    "from pathlib import Path\n",
    "from matplotlib import pyplot as plt\n",
    "from spudtr import epf"
   ]
  },
  {
   "cell_type": "markdown",
   "metadata": {},
   "source": [
    "## Read in epochs file"
   ]
  },
  {
   "cell_type": "code",
   "execution_count": 2,
   "metadata": {
    "execution": {
     "iopub.execute_input": "2020-08-22T00:57:27.350753Z",
     "iopub.status.busy": "2020-08-22T00:57:27.349892Z",
     "iopub.status.idle": "2020-08-22T01:00:24.745924Z",
     "shell.execute_reply": "2020-08-22T01:00:24.746538Z"
    },
    "tags": [
     "full-width",
     "output_scroll"
    ]
   },
   "outputs": [
    {
     "data": {
      "text/html": [
       "<div>\n",
       "<style scoped>\n",
       "    .dataframe tbody tr th:only-of-type {\n",
       "        vertical-align: middle;\n",
       "    }\n",
       "\n",
       "    .dataframe tbody tr th {\n",
       "        vertical-align: top;\n",
       "    }\n",
       "\n",
       "    .dataframe thead th {\n",
       "        text-align: right;\n",
       "    }\n",
       "</style>\n",
       "<table border=\"1\" class=\"dataframe\">\n",
       "  <thead>\n",
       "    <tr style=\"text-align: right;\">\n",
       "      <th></th>\n",
       "      <th>epoch_id</th>\n",
       "      <th>match_time</th>\n",
       "      <th>data_group</th>\n",
       "      <th>Stimulus</th>\n",
       "      <th>response_ticks</th>\n",
       "      <th>Rhand</th>\n",
       "      <th>Lhand</th>\n",
       "      <th>MiPf</th>\n",
       "    </tr>\n",
       "  </thead>\n",
       "  <tbody>\n",
       "    <tr>\n",
       "      <th>0</th>\n",
       "      <td>0</td>\n",
       "      <td>-100</td>\n",
       "      <td>stm02</td>\n",
       "      <td>O1</td>\n",
       "      <td>NaN</td>\n",
       "      <td>24</td>\n",
       "      <td>6</td>\n",
       "      <td>4.812500</td>\n",
       "    </tr>\n",
       "    <tr>\n",
       "      <th>1</th>\n",
       "      <td>0</td>\n",
       "      <td>-96</td>\n",
       "      <td>stm02</td>\n",
       "      <td>O1</td>\n",
       "      <td>NaN</td>\n",
       "      <td>24</td>\n",
       "      <td>6</td>\n",
       "      <td>-11.234375</td>\n",
       "    </tr>\n",
       "    <tr>\n",
       "      <th>2</th>\n",
       "      <td>0</td>\n",
       "      <td>-92</td>\n",
       "      <td>stm02</td>\n",
       "      <td>O1</td>\n",
       "      <td>NaN</td>\n",
       "      <td>24</td>\n",
       "      <td>6</td>\n",
       "      <td>-34.093750</td>\n",
       "    </tr>\n",
       "    <tr>\n",
       "      <th>3</th>\n",
       "      <td>0</td>\n",
       "      <td>-88</td>\n",
       "      <td>stm02</td>\n",
       "      <td>O1</td>\n",
       "      <td>NaN</td>\n",
       "      <td>24</td>\n",
       "      <td>6</td>\n",
       "      <td>-18.453125</td>\n",
       "    </tr>\n",
       "    <tr>\n",
       "      <th>4</th>\n",
       "      <td>0</td>\n",
       "      <td>-84</td>\n",
       "      <td>stm02</td>\n",
       "      <td>O1</td>\n",
       "      <td>NaN</td>\n",
       "      <td>24</td>\n",
       "      <td>6</td>\n",
       "      <td>-7.218750</td>\n",
       "    </tr>\n",
       "    <tr>\n",
       "      <th>...</th>\n",
       "      <td>...</td>\n",
       "      <td>...</td>\n",
       "      <td>...</td>\n",
       "      <td>...</td>\n",
       "      <td>...</td>\n",
       "      <td>...</td>\n",
       "      <td>...</td>\n",
       "      <td>...</td>\n",
       "    </tr>\n",
       "    <tr>\n",
       "      <th>10357745</th>\n",
       "      <td>41437</td>\n",
       "      <td>880</td>\n",
       "      <td>stm35</td>\n",
       "      <td>.NAN</td>\n",
       "      <td>NaN</td>\n",
       "      <td>30</td>\n",
       "      <td>7</td>\n",
       "      <td>-5.996094</td>\n",
       "    </tr>\n",
       "    <tr>\n",
       "      <th>10357746</th>\n",
       "      <td>41437</td>\n",
       "      <td>884</td>\n",
       "      <td>stm35</td>\n",
       "      <td>.NAN</td>\n",
       "      <td>NaN</td>\n",
       "      <td>30</td>\n",
       "      <td>7</td>\n",
       "      <td>-5.593750</td>\n",
       "    </tr>\n",
       "    <tr>\n",
       "      <th>10357747</th>\n",
       "      <td>41437</td>\n",
       "      <td>888</td>\n",
       "      <td>stm35</td>\n",
       "      <td>.NAN</td>\n",
       "      <td>NaN</td>\n",
       "      <td>30</td>\n",
       "      <td>7</td>\n",
       "      <td>-5.593750</td>\n",
       "    </tr>\n",
       "    <tr>\n",
       "      <th>10357748</th>\n",
       "      <td>41437</td>\n",
       "      <td>892</td>\n",
       "      <td>stm35</td>\n",
       "      <td>.NAN</td>\n",
       "      <td>NaN</td>\n",
       "      <td>30</td>\n",
       "      <td>7</td>\n",
       "      <td>-5.593750</td>\n",
       "    </tr>\n",
       "    <tr>\n",
       "      <th>10357749</th>\n",
       "      <td>41437</td>\n",
       "      <td>896</td>\n",
       "      <td>stm35</td>\n",
       "      <td>.NAN</td>\n",
       "      <td>NaN</td>\n",
       "      <td>30</td>\n",
       "      <td>7</td>\n",
       "      <td>-5.593750</td>\n",
       "    </tr>\n",
       "  </tbody>\n",
       "</table>\n",
       "<p>10357750 rows × 8 columns</p>\n",
       "</div>"
      ],
      "text/plain": [
       "          epoch_id  match_time data_group Stimulus  response_ticks  Rhand  \\\n",
       "0                0        -100      stm02       O1             NaN     24   \n",
       "1                0         -96      stm02       O1             NaN     24   \n",
       "2                0         -92      stm02       O1             NaN     24   \n",
       "3                0         -88      stm02       O1             NaN     24   \n",
       "4                0         -84      stm02       O1             NaN     24   \n",
       "...            ...         ...        ...      ...             ...    ...   \n",
       "10357745     41437         880      stm35     .NAN             NaN     30   \n",
       "10357746     41437         884      stm35     .NAN             NaN     30   \n",
       "10357747     41437         888      stm35     .NAN             NaN     30   \n",
       "10357748     41437         892      stm35     .NAN             NaN     30   \n",
       "10357749     41437         896      stm35     .NAN             NaN     30   \n",
       "\n",
       "          Lhand       MiPf  \n",
       "0             6   4.812500  \n",
       "1             6 -11.234375  \n",
       "2             6 -34.093750  \n",
       "3             6 -18.453125  \n",
       "4             6  -7.218750  \n",
       "...         ...        ...  \n",
       "10357745      7  -5.996094  \n",
       "10357746      7  -5.593750  \n",
       "10357747      7  -5.593750  \n",
       "10357748      7  -5.593750  \n",
       "10357749      7  -5.593750  \n",
       "\n",
       "[10357750 rows x 8 columns]"
      ]
     },
     "execution_count": 2,
     "metadata": {},
     "output_type": "execute_result"
    }
   ],
   "source": [
    "MKPY_DIR = Path(\"../../mkpy\")\n",
    "\n",
    "stmath_df = pd.read_hdf(MKPY_DIR / (\"stmath.epochs.h5\"), key='stmath')\n",
    "## Display the data to check it loaded in correctly\n",
    "stmath_df[['epoch_id','match_time','data_group','Stimulus','response_ticks','Rhand','Lhand', 'MiPf']]"
   ]
  },
  {
   "cell_type": "markdown",
   "metadata": {},
   "source": [
    "## Change column names and specify variables for later\n",
    "Do not change epoch_id or match_times if you intend to use fitgrid <br>\n",
    "<br>\n",
    "If you do not specify a channels variable, you will have to type the channels for every command."
   ]
  },
  {
   "cell_type": "code",
   "execution_count": 3,
   "metadata": {
    "execution": {
     "iopub.execute_input": "2020-08-22T01:00:24.758624Z",
     "iopub.status.busy": "2020-08-22T01:00:24.757564Z",
     "iopub.status.idle": "2020-08-22T01:00:29.802597Z",
     "shell.execute_reply": "2020-08-22T01:00:29.801811Z"
    }
   },
   "outputs": [],
   "source": [
    "# munge dataframe columns\n",
    "new_names={\n",
    "    \"data_group\": \"sub_id\",\n",
    "    \"log_flags\": \"garv_reject\",\n",
    "}\n",
    "stmath_df.rename(columns=new_names, inplace=True)\n",
    "\n",
    "CHANNELS = [\n",
    "    'lle', 'lhz', 'MiPf', 'LLPf', 'RLPf', 'LMPf', 'RMPf', 'LDFr', \n",
    "    'RDFr', 'LLFr', 'RLFr', 'LMFr', 'RMFr', 'LMCe', 'RMCe', 'MiCe',\n",
    "    'MiPa', 'LDCe', 'RDCe', 'LDPa', 'RDPa', 'LMOc', 'RMOc', 'LLTe',\n",
    "    'RLTe', 'LLOc', 'RLOc', 'MiOc', 'A2', 'HEOG', 'rle', 'rhz'\n",
    "]"
   ]
  },
  {
   "cell_type": "markdown",
   "metadata": {},
   "source": [
    "## Re-referencing\n",
    "Can do linked pair (from one online reference to the average of two), new common reference (pick a new reference), or common average reference (subtract the average of all channels from each channel)<br>\n",
    "<br>\n",
    "This example uses linked pair since it is what we most commonly use\n",
    "\n",
    "```{note}\n",
    "There is no output for the re-referencing, baselining, or artifact rejection unless you ask for it since we are overwritting the dataframe each time to save the data transformation.\n",
    "```"
   ]
  },
  {
   "cell_type": "code",
   "execution_count": 4,
   "metadata": {
    "execution": {
     "iopub.execute_input": "2020-08-22T01:00:29.809345Z",
     "iopub.status.busy": "2020-08-22T01:00:29.808229Z",
     "iopub.status.idle": "2020-08-22T01:01:54.789815Z",
     "shell.execute_reply": "2020-08-22T01:01:54.790357Z"
    },
    "tags": [
     "full-width",
     "output_scroll"
    ]
   },
   "outputs": [],
   "source": [
    "stmath_df = epf.re_reference(\n",
    "    stmath_df,\n",
    "    CHANNELS,\n",
    "    'A2',\n",
    "    \"linked_pair\",\n",
    "    epoch_id=\"epoch_id\", time=\"match_time\",\n",
    ")\n"
   ]
  },
  {
   "cell_type": "markdown",
   "metadata": {},
   "source": [
    "## Baselining\n",
    "center the epoch around a prestimulus interval set with the start and stop variables"
   ]
  },
  {
   "cell_type": "code",
   "execution_count": 5,
   "metadata": {
    "execution": {
     "iopub.execute_input": "2020-08-22T01:01:54.800978Z",
     "iopub.status.busy": "2020-08-22T01:01:54.800006Z",
     "iopub.status.idle": "2020-08-22T01:03:55.921114Z",
     "shell.execute_reply": "2020-08-22T01:03:55.921863Z"
    }
   },
   "outputs": [],
   "source": [
    "start = -100\n",
    "stop = 0\n",
    "stmath_df = epf.center_eeg(\n",
    "    stmath_df,\n",
    "    CHANNELS,\n",
    "    start,\n",
    "    stop,\n",
    "    epoch_id='epoch_id',\n",
    "    time='match_time'\n",
    ")"
   ]
  },
  {
   "cell_type": "markdown",
   "metadata": {},
   "source": [
    "## Artifact Rejection\n",
    "method used for if you created the h5 file using an .x.log to preserve garv flags<br>\n",
    "```{note} \n",
    "Above I renamed the appropriate column to garv_reject to be more transparent about what I was doing\n",
    "```"
   ]
  },
  {
   "cell_type": "code",
   "execution_count": 6,
   "metadata": {
    "execution": {
     "iopub.execute_input": "2020-08-22T01:03:55.930074Z",
     "iopub.status.busy": "2020-08-22T01:03:55.929129Z",
     "iopub.status.idle": "2020-08-22T01:05:43.347562Z",
     "shell.execute_reply": "2020-08-22T01:05:43.348337Z"
    }
   },
   "outputs": [
    {
     "name": "stdout",
     "output_type": "stream",
     "text": [
      "Total number of epoch ids:  41431\n",
      "Number of good epoch ids:  38895\n"
     ]
    }
   ],
   "source": [
    "good_epochs = epf.drop_bad_epochs(\n",
    "    stmath_df,\n",
    "    bads_column=\"garv_reject\",\n",
    "    epoch_id='epoch_id',\n",
    "    time='match_time',\n",
    ")\n",
    "\n",
    "print(\"Total number of epoch ids: \", len(stmath_df[\"epoch_id\"].unique()))\n",
    "print(\"Number of good epoch ids: \", len(good_epochs[\"epoch_id\"].unique()))"
   ]
  },
  {
   "cell_type": "markdown",
   "metadata": {},
   "source": [
    "## Save file to be loaded later"
   ]
  },
  {
   "cell_type": "code",
   "execution_count": 7,
   "metadata": {
    "execution": {
     "iopub.execute_input": "2020-08-22T01:05:43.356550Z",
     "iopub.status.busy": "2020-08-22T01:05:43.355643Z",
     "iopub.status.idle": "2020-08-22T01:07:33.704833Z",
     "shell.execute_reply": "2020-08-22T01:07:33.705243Z"
    },
    "tags": [
     "full-width",
     "output_scroll"
    ]
   },
   "outputs": [],
   "source": [
    "good_epochs.to_hdf('../../mkpy/stmath_cleaned_epochs.h5', key='stmath_good_epochs', mode='w')"
   ]
  }
 ],
 "metadata": {
  "celltoolbar": "Edit Metadata",
  "kernelspec": {
   "display_name": "Python 3",
   "language": "python",
   "name": "python3"
  },
  "language_info": {
   "codemirror_mode": {
    "name": "ipython",
    "version": 3
   },
   "file_extension": ".py",
   "mimetype": "text/x-python",
   "name": "python",
   "nbconvert_exporter": "python",
   "pygments_lexer": "ipython3",
   "version": "3.6.10"
  }
 },
 "nbformat": 4,
 "nbformat_minor": 2
}