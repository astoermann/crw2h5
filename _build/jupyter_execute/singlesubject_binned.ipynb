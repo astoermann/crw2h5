{
 "cells": [
  {
   "cell_type": "markdown",
   "metadata": {},
   "source": [
    "---\n",
    "# Binned, single subject example \n",
    "*See [mkpy docs](https://kutaslab.github.io/mkpy/Quick%20Start.html) for explanations of all the commands and files. Click on the command to find it in the glossary and learn more. The glossary links are incuded for each command below* <br>\n",
    "## Conda environment\n",
    "*always activate a conda environment before starting. This notebook uses [mkconda](https://anaconda.org/kutaslab/mkconda) 0.0.11*"
   ]
  },
  {
   "cell_type": "raw",
   "metadata": {},
   "source": [
    "conda activate mkconda-0.0.11"
   ]
  },
  {
   "cell_type": "markdown",
   "metadata": {},
   "source": [
    "## Python Libraries"
   ]
  },
  {
   "cell_type": "code",
   "execution_count": 1,
   "metadata": {
    "execution": {
     "iopub.execute_input": "2020-08-25T02:10:21.416507Z",
     "iopub.status.busy": "2020-08-25T02:10:21.415825Z",
     "iopub.status.idle": "2020-08-25T02:10:23.551305Z",
     "shell.execute_reply": "2020-08-25T02:10:23.550521Z"
    }
   },
   "outputs": [],
   "source": [
    "from pathlib import Path\n",
    "from mkpy import mkh5\n",
    "import pandas as pd"
   ]
  },
  {
   "cell_type": "markdown",
   "metadata": {},
   "source": [
    "## Data Paths\n",
    "Set paths and variable names for files later"
   ]
  },
  {
   "cell_type": "code",
   "execution_count": 2,
   "metadata": {
    "execution": {
     "iopub.execute_input": "2020-08-25T02:10:23.555743Z",
     "iopub.status.busy": "2020-08-25T02:10:23.554922Z",
     "iopub.status.idle": "2020-08-25T02:10:23.557438Z",
     "shell.execute_reply": "2020-08-25T02:10:23.556707Z"
    }
   },
   "outputs": [],
   "source": [
    "MKDIG_DIR = Path(\"../../mkdig\")\n",
    "MKPY_DIR = Path(\"../../mkpy\")"
   ]
  },
  {
   "cell_type": "markdown",
   "metadata": {},
   "source": [
    "## File names\n",
    "Set file names so they can be easily changed and don't have to retype every time"
   ]
  },
  {
   "cell_type": "code",
   "execution_count": 3,
   "metadata": {
    "execution": {
     "iopub.execute_input": "2020-08-25T02:10:23.562316Z",
     "iopub.status.busy": "2020-08-25T02:10:23.561474Z",
     "iopub.status.idle": "2020-08-25T02:10:23.563945Z",
     "shell.execute_reply": "2020-08-25T02:10:23.563230Z"
    }
   },
   "outputs": [],
   "source": [
    "# h5 continuous file \n",
    "h5_f = str(MKPY_DIR / (\"stm02.h5\"))\n",
    "\n",
    "# h5 epoch file \n",
    "epochtable = str(MKPY_DIR / (\"stm02.epochs.h5\"))\n",
    "\n",
    "# subject ID\n",
    "sub = 'stm02'\n",
    "\n",
    "# kutas lab data files (from DIG + yhdr that you created)\n",
    "eeg = MKDIG_DIR / (sub + \".crw\")\n",
    "log = MKDIG_DIR / (sub +\".x.log\")\n",
    "yhdr = MKPY_DIR / (sub + \".yhdr\")"
   ]
  },
  {
   "cell_type": "markdown",
   "metadata": {},
   "source": [
    "## Build the continuous h5 file"
   ]
  },
  {
   "cell_type": "markdown",
   "metadata": {
    "scrolled": true
   },
   "source": [
    "1) [mkh5.mkh5](https://kutaslab.github.io/mkpy/source/mkpy.mkh5.html#mkpy.mkh5.mkh5): Import the h5 file into a dataframe and reset it (generally you will want to reset the file to start fresh)."
   ]
  },
  {
   "cell_type": "code",
   "execution_count": 4,
   "metadata": {
    "execution": {
     "iopub.execute_input": "2020-08-25T02:10:23.567586Z",
     "iopub.status.busy": "2020-08-25T02:10:23.566780Z",
     "iopub.status.idle": "2020-08-25T02:10:23.682509Z",
     "shell.execute_reply": "2020-08-25T02:10:23.681654Z"
    }
   },
   "outputs": [],
   "source": [
    "myh5 = mkh5.mkh5(h5_f)\n",
    "myh5.reset_all()"
   ]
  },
  {
   "cell_type": "markdown",
   "metadata": {
    "scrolled": true
   },
   "source": [
    "2) [create_mkdata](https://kutaslab.github.io/mkpy/source/mkpy.mkh5.html#mkpy.mkh5.mkh5.create_mkdata): load in subject and cals to the h5 data structure<br><br>\n",
    "*The first argument is the data branch you want to add the data to. This can be subject name, or for more complicated files could be a path.*<br><br>\n",
    "&emsp;2a) [append_mkdata](https://kutaslab.github.io/mkpy/source/mkpy.mkh5.html#mkpy.mkh5.mkh5.append_mkdata): if your file is split into two for some reason (i.e., separate cals, DIG crash) this is where you would add this command as well"
   ]
  },
  {
   "cell_type": "code",
   "execution_count": 5,
   "metadata": {
    "execution": {
     "iopub.execute_input": "2020-08-25T02:10:23.686825Z",
     "iopub.status.busy": "2020-08-25T02:10:23.685915Z",
     "iopub.status.idle": "2020-08-25T02:10:25.717038Z",
     "shell.execute_reply": "2020-08-25T02:10:25.716081Z"
    }
   },
   "outputs": [],
   "source": [
    "myh5.create_mkdata(sub, eeg, log, yhdr)"
   ]
  },
  {
   "cell_type": "markdown",
   "metadata": {
    "scrolled": true
   },
   "source": [
    "3) [calibrate_mkdata](https://kutaslab.github.io/mkpy/source/mkpy.mkh5.html#mkpy.mkh5.mkh5.calibrate_mkdata): calibrate data; the first line sets the values similar to normerp<br><br>\n",
    "*If you don't know what values to use, you can use [plotcals](https://kutaslab.github.io/mkpy/source/mkpy.mkh5.html#mkpy.mkh5.mkh5.plotcals) to select them before running the calibrate command.* "
   ]
  },
  {
   "cell_type": "code",
   "execution_count": 6,
   "metadata": {
    "execution": {
     "iopub.execute_input": "2020-08-25T02:10:25.773255Z",
     "iopub.status.busy": "2020-08-25T02:10:25.769252Z",
     "iopub.status.idle": "2020-08-25T02:10:30.094877Z",
     "shell.execute_reply": "2020-08-25T02:10:30.094351Z"
    },
    "tags": [
     "output_scroll"
    ]
   },
   "outputs": [
    {
     "name": "stderr",
     "output_type": "stream",
     "text": [
      "/home/astoermann/.conda/envs/test_jupyter_books_11/lib/python3.6/site-packages/mkpy/mkh5.py:3706: UserWarning: negative event code(s) found for cal condition code 0 -16384\n",
      "  warnings.warn(msg)\n"
     ]
    },
    {
     "name": "stdout",
     "output_type": "stream",
     "text": [
      "Found cals in /stm02/dblock_5\n",
      "Calibrating block /stm02/dblock_0 of 6: (148224,)  \n"
     ]
    },
    {
     "name": "stdout",
     "output_type": "stream",
     "text": [
      "Calibrating block /stm02/dblock_1 of 6: (146944,)  \n"
     ]
    },
    {
     "name": "stdout",
     "output_type": "stream",
     "text": [
      "Calibrating block /stm02/dblock_2 of 6: (148224,)  \n"
     ]
    },
    {
     "name": "stdout",
     "output_type": "stream",
     "text": [
      "Calibrating block /stm02/dblock_3 of 6: (271104,)  \n"
     ]
    },
    {
     "name": "stdout",
     "output_type": "stream",
     "text": [
      "Calibrating block /stm02/dblock_4 of 6: (122624,)  \n"
     ]
    },
    {
     "name": "stdout",
     "output_type": "stream",
     "text": [
      "Calibrating block /stm02/dblock_5 of 6: (19200,)  \n"
     ]
    }
   ],
   "source": [
    "pts, pulse, lo, hi, ccode = 5, 10, -40, 40, 0\n",
    "myh5.calibrate_mkdata(sub, # specific data group\n",
    "                    n_points = pts,   # pts to average\n",
    "                    cal_size = pulse, # uV\n",
    "                    lo_cursor = lo,   # lo_cursor ms\n",
    "                    hi_cursor = hi,   # hi_cursor ms\n",
    "                    cal_ccode= ccode) # condition code"
   ]
  },
  {
   "cell_type": "markdown",
   "metadata": {},
   "source": [
    "```{note}\n",
    "The warning above is telling you there is a negative event code in the cals (the pause) that wasn't expected. This warning is fine to get. Sometimes pauses happen in the cals i.e, pausing before the cal pulses are completely done.\n",
    "```\n",
    "\n",
    "## Find event codes in the data\n",
    "[get_event_table](https://kutaslab.github.io/mkpy/source/mkpy.mkh5.html#mkpy.mkh5.mkh5.get_event_table): Label the events in the data, but don't pull out epochs yet. Capture this info in a data frame.\n",
    "* For this simple example we will use the .ytbl format for the code map (see {doc}`codemaps` ytbl example)"
   ]
  },
  {
   "cell_type": "code",
   "execution_count": 7,
   "metadata": {
    "execution": {
     "iopub.execute_input": "2020-08-25T02:10:30.099222Z",
     "iopub.status.busy": "2020-08-25T02:10:30.098742Z",
     "iopub.status.idle": "2020-08-25T02:10:31.073816Z",
     "shell.execute_reply": "2020-08-25T02:10:31.074454Z"
    },
    "scrolled": true,
    "tags": [
     "full-width",
     "output_scroll"
    ]
   },
   "outputs": [
    {
     "name": "stdout",
     "output_type": "stream",
     "text": [
      "searching codes in: stm02/dblock_0\n",
      "searching codes in: stm02/dblock_1\n",
      "searching codes in: stm02/dblock_2\n",
      "searching codes in: stm02/dblock_3\n"
     ]
    },
    {
     "name": "stdout",
     "output_type": "stream",
     "text": [
      "searching codes in: stm02/dblock_4\n",
      "searching codes in: stm02/dblock_5\n"
     ]
    },
    {
     "data": {
      "text/html": [
       "<div>\n",
       "<style scoped>\n",
       "    .dataframe tbody tr th:only-of-type {\n",
       "        vertical-align: middle;\n",
       "    }\n",
       "\n",
       "    .dataframe tbody tr th {\n",
       "        vertical-align: top;\n",
       "    }\n",
       "\n",
       "    .dataframe thead th {\n",
       "        text-align: right;\n",
       "    }\n",
       "</style>\n",
       "<table border=\"1\" class=\"dataframe\">\n",
       "  <thead>\n",
       "    <tr style=\"text-align: right;\">\n",
       "      <th></th>\n",
       "      <th>data_group</th>\n",
       "      <th>dblock_path</th>\n",
       "      <th>dblock_tick_idx</th>\n",
       "      <th>dblock_ticks</th>\n",
       "      <th>crw_ticks</th>\n",
       "      <th>raw_evcodes</th>\n",
       "      <th>log_evcodes</th>\n",
       "      <th>log_ccodes</th>\n",
       "      <th>log_flags</th>\n",
       "      <th>epoch_match_tick_delta</th>\n",
       "      <th>...</th>\n",
       "      <th>match_str</th>\n",
       "      <th>anchor_code</th>\n",
       "      <th>match_code</th>\n",
       "      <th>anchor_tick</th>\n",
       "      <th>match_tick</th>\n",
       "      <th>anchor_tick_delta</th>\n",
       "      <th>is_anchor</th>\n",
       "      <th>condition</th>\n",
       "      <th>regexp</th>\n",
       "      <th>STthreat</th>\n",
       "    </tr>\n",
       "  </thead>\n",
       "  <tbody>\n",
       "    <tr>\n",
       "      <th>0</th>\n",
       "      <td>stm02</td>\n",
       "      <td>stm02/dblock_0</td>\n",
       "      <td>66</td>\n",
       "      <td>13565</td>\n",
       "      <td>13565</td>\n",
       "      <td>11025</td>\n",
       "      <td>11025</td>\n",
       "      <td>1</td>\n",
       "      <td>0</td>\n",
       "      <td>0</td>\n",
       "      <td>...</td>\n",
       "      <td>11025</td>\n",
       "      <td>11025</td>\n",
       "      <td>11025</td>\n",
       "      <td>13565</td>\n",
       "      <td>13565</td>\n",
       "      <td>0</td>\n",
       "      <td>True</td>\n",
       "      <td>CorrectNoST</td>\n",
       "      <td>(#11[0-9]{3})</td>\n",
       "      <td>NoST</td>\n",
       "    </tr>\n",
       "    <tr>\n",
       "      <th>1</th>\n",
       "      <td>stm02</td>\n",
       "      <td>stm02/dblock_0</td>\n",
       "      <td>108</td>\n",
       "      <td>21958</td>\n",
       "      <td>21958</td>\n",
       "      <td>11003</td>\n",
       "      <td>11003</td>\n",
       "      <td>1</td>\n",
       "      <td>32</td>\n",
       "      <td>0</td>\n",
       "      <td>...</td>\n",
       "      <td>11003</td>\n",
       "      <td>11003</td>\n",
       "      <td>11003</td>\n",
       "      <td>21958</td>\n",
       "      <td>21958</td>\n",
       "      <td>0</td>\n",
       "      <td>True</td>\n",
       "      <td>CorrectNoST</td>\n",
       "      <td>(#11[0-9]{3})</td>\n",
       "      <td>NoST</td>\n",
       "    </tr>\n",
       "    <tr>\n",
       "      <th>2</th>\n",
       "      <td>stm02</td>\n",
       "      <td>stm02/dblock_0</td>\n",
       "      <td>192</td>\n",
       "      <td>38634</td>\n",
       "      <td>38634</td>\n",
       "      <td>11078</td>\n",
       "      <td>11078</td>\n",
       "      <td>1</td>\n",
       "      <td>0</td>\n",
       "      <td>0</td>\n",
       "      <td>...</td>\n",
       "      <td>11078</td>\n",
       "      <td>11078</td>\n",
       "      <td>11078</td>\n",
       "      <td>38634</td>\n",
       "      <td>38634</td>\n",
       "      <td>0</td>\n",
       "      <td>True</td>\n",
       "      <td>CorrectNoST</td>\n",
       "      <td>(#11[0-9]{3})</td>\n",
       "      <td>NoST</td>\n",
       "    </tr>\n",
       "    <tr>\n",
       "      <th>3</th>\n",
       "      <td>stm02</td>\n",
       "      <td>stm02/dblock_0</td>\n",
       "      <td>234</td>\n",
       "      <td>47106</td>\n",
       "      <td>47106</td>\n",
       "      <td>11088</td>\n",
       "      <td>11088</td>\n",
       "      <td>1</td>\n",
       "      <td>0</td>\n",
       "      <td>0</td>\n",
       "      <td>...</td>\n",
       "      <td>11088</td>\n",
       "      <td>11088</td>\n",
       "      <td>11088</td>\n",
       "      <td>47106</td>\n",
       "      <td>47106</td>\n",
       "      <td>0</td>\n",
       "      <td>True</td>\n",
       "      <td>CorrectNoST</td>\n",
       "      <td>(#11[0-9]{3})</td>\n",
       "      <td>NoST</td>\n",
       "    </tr>\n",
       "    <tr>\n",
       "      <th>4</th>\n",
       "      <td>stm02</td>\n",
       "      <td>stm02/dblock_0</td>\n",
       "      <td>248</td>\n",
       "      <td>50191</td>\n",
       "      <td>50191</td>\n",
       "      <td>11039</td>\n",
       "      <td>11039</td>\n",
       "      <td>1</td>\n",
       "      <td>0</td>\n",
       "      <td>0</td>\n",
       "      <td>...</td>\n",
       "      <td>11039</td>\n",
       "      <td>11039</td>\n",
       "      <td>11039</td>\n",
       "      <td>50191</td>\n",
       "      <td>50191</td>\n",
       "      <td>0</td>\n",
       "      <td>True</td>\n",
       "      <td>CorrectNoST</td>\n",
       "      <td>(#11[0-9]{3})</td>\n",
       "      <td>NoST</td>\n",
       "    </tr>\n",
       "    <tr>\n",
       "      <th>...</th>\n",
       "      <td>...</td>\n",
       "      <td>...</td>\n",
       "      <td>...</td>\n",
       "      <td>...</td>\n",
       "      <td>...</td>\n",
       "      <td>...</td>\n",
       "      <td>...</td>\n",
       "      <td>...</td>\n",
       "      <td>...</td>\n",
       "      <td>...</td>\n",
       "      <td>...</td>\n",
       "      <td>...</td>\n",
       "      <td>...</td>\n",
       "      <td>...</td>\n",
       "      <td>...</td>\n",
       "      <td>...</td>\n",
       "      <td>...</td>\n",
       "      <td>...</td>\n",
       "      <td>...</td>\n",
       "      <td>...</td>\n",
       "      <td>...</td>\n",
       "    </tr>\n",
       "    <tr>\n",
       "      <th>306</th>\n",
       "      <td>stm02</td>\n",
       "      <td>stm02/dblock_4</td>\n",
       "      <td>568</td>\n",
       "      <td>95246</td>\n",
       "      <td>809742</td>\n",
       "      <td>16061</td>\n",
       "      <td>16061</td>\n",
       "      <td>1</td>\n",
       "      <td>0</td>\n",
       "      <td>0</td>\n",
       "      <td>...</td>\n",
       "      <td>16061</td>\n",
       "      <td>16061</td>\n",
       "      <td>16061</td>\n",
       "      <td>95246</td>\n",
       "      <td>95246</td>\n",
       "      <td>0</td>\n",
       "      <td>True</td>\n",
       "      <td>RelatedST</td>\n",
       "      <td>(#16[0-9]{3})</td>\n",
       "      <td>ST</td>\n",
       "    </tr>\n",
       "    <tr>\n",
       "      <th>307</th>\n",
       "      <td>stm02</td>\n",
       "      <td>stm02/dblock_4</td>\n",
       "      <td>624</td>\n",
       "      <td>104618</td>\n",
       "      <td>819114</td>\n",
       "      <td>16143</td>\n",
       "      <td>16143</td>\n",
       "      <td>1</td>\n",
       "      <td>0</td>\n",
       "      <td>0</td>\n",
       "      <td>...</td>\n",
       "      <td>16143</td>\n",
       "      <td>16143</td>\n",
       "      <td>16143</td>\n",
       "      <td>104618</td>\n",
       "      <td>104618</td>\n",
       "      <td>0</td>\n",
       "      <td>True</td>\n",
       "      <td>RelatedST</td>\n",
       "      <td>(#16[0-9]{3})</td>\n",
       "      <td>ST</td>\n",
       "    </tr>\n",
       "    <tr>\n",
       "      <th>308</th>\n",
       "      <td>stm02</td>\n",
       "      <td>stm02/dblock_4</td>\n",
       "      <td>638</td>\n",
       "      <td>106928</td>\n",
       "      <td>821424</td>\n",
       "      <td>16141</td>\n",
       "      <td>16141</td>\n",
       "      <td>1</td>\n",
       "      <td>0</td>\n",
       "      <td>0</td>\n",
       "      <td>...</td>\n",
       "      <td>16141</td>\n",
       "      <td>16141</td>\n",
       "      <td>16141</td>\n",
       "      <td>106928</td>\n",
       "      <td>106928</td>\n",
       "      <td>0</td>\n",
       "      <td>True</td>\n",
       "      <td>RelatedST</td>\n",
       "      <td>(#16[0-9]{3})</td>\n",
       "      <td>ST</td>\n",
       "    </tr>\n",
       "    <tr>\n",
       "      <th>309</th>\n",
       "      <td>stm02</td>\n",
       "      <td>stm02/dblock_4</td>\n",
       "      <td>680</td>\n",
       "      <td>114040</td>\n",
       "      <td>828536</td>\n",
       "      <td>16040</td>\n",
       "      <td>16040</td>\n",
       "      <td>1</td>\n",
       "      <td>0</td>\n",
       "      <td>0</td>\n",
       "      <td>...</td>\n",
       "      <td>16040</td>\n",
       "      <td>16040</td>\n",
       "      <td>16040</td>\n",
       "      <td>114040</td>\n",
       "      <td>114040</td>\n",
       "      <td>0</td>\n",
       "      <td>True</td>\n",
       "      <td>RelatedST</td>\n",
       "      <td>(#16[0-9]{3})</td>\n",
       "      <td>ST</td>\n",
       "    </tr>\n",
       "    <tr>\n",
       "      <th>310</th>\n",
       "      <td>stm02</td>\n",
       "      <td>stm02/dblock_4</td>\n",
       "      <td>722</td>\n",
       "      <td>120715</td>\n",
       "      <td>835211</td>\n",
       "      <td>16044</td>\n",
       "      <td>16044</td>\n",
       "      <td>1</td>\n",
       "      <td>0</td>\n",
       "      <td>0</td>\n",
       "      <td>...</td>\n",
       "      <td>16044</td>\n",
       "      <td>16044</td>\n",
       "      <td>16044</td>\n",
       "      <td>120715</td>\n",
       "      <td>120715</td>\n",
       "      <td>0</td>\n",
       "      <td>True</td>\n",
       "      <td>RelatedST</td>\n",
       "      <td>(#16[0-9]{3})</td>\n",
       "      <td>ST</td>\n",
       "    </tr>\n",
       "  </tbody>\n",
       "</table>\n",
       "<p>311 rows × 26 columns</p>\n",
       "</div>"
      ],
      "text/plain": [
       "    data_group     dblock_path  dblock_tick_idx  dblock_ticks  crw_ticks  \\\n",
       "0        stm02  stm02/dblock_0               66         13565      13565   \n",
       "1        stm02  stm02/dblock_0              108         21958      21958   \n",
       "2        stm02  stm02/dblock_0              192         38634      38634   \n",
       "3        stm02  stm02/dblock_0              234         47106      47106   \n",
       "4        stm02  stm02/dblock_0              248         50191      50191   \n",
       "..         ...             ...              ...           ...        ...   \n",
       "306      stm02  stm02/dblock_4              568         95246     809742   \n",
       "307      stm02  stm02/dblock_4              624        104618     819114   \n",
       "308      stm02  stm02/dblock_4              638        106928     821424   \n",
       "309      stm02  stm02/dblock_4              680        114040     828536   \n",
       "310      stm02  stm02/dblock_4              722        120715     835211   \n",
       "\n",
       "     raw_evcodes  log_evcodes  log_ccodes  log_flags  epoch_match_tick_delta  \\\n",
       "0          11025        11025           1          0                       0   \n",
       "1          11003        11003           1         32                       0   \n",
       "2          11078        11078           1          0                       0   \n",
       "3          11088        11088           1          0                       0   \n",
       "4          11039        11039           1          0                       0   \n",
       "..           ...          ...         ...        ...                     ...   \n",
       "306        16061        16061           1          0                       0   \n",
       "307        16143        16143           1          0                       0   \n",
       "308        16141        16141           1          0                       0   \n",
       "309        16040        16040           1          0                       0   \n",
       "310        16044        16044           1          0                       0   \n",
       "\n",
       "     ...  match_str  anchor_code  match_code  anchor_tick  match_tick  \\\n",
       "0    ...      11025        11025       11025        13565       13565   \n",
       "1    ...      11003        11003       11003        21958       21958   \n",
       "2    ...      11078        11078       11078        38634       38634   \n",
       "3    ...      11088        11088       11088        47106       47106   \n",
       "4    ...      11039        11039       11039        50191       50191   \n",
       "..   ...        ...          ...         ...          ...         ...   \n",
       "306  ...      16061        16061       16061        95246       95246   \n",
       "307  ...      16143        16143       16143       104618      104618   \n",
       "308  ...      16141        16141       16141       106928      106928   \n",
       "309  ...      16040        16040       16040       114040      114040   \n",
       "310  ...      16044        16044       16044       120715      120715   \n",
       "\n",
       "    anchor_tick_delta is_anchor    condition         regexp  STthreat  \n",
       "0                   0      True  CorrectNoST  (#11[0-9]{3})      NoST  \n",
       "1                   0      True  CorrectNoST  (#11[0-9]{3})      NoST  \n",
       "2                   0      True  CorrectNoST  (#11[0-9]{3})      NoST  \n",
       "3                   0      True  CorrectNoST  (#11[0-9]{3})      NoST  \n",
       "4                   0      True  CorrectNoST  (#11[0-9]{3})      NoST  \n",
       "..                ...       ...          ...            ...       ...  \n",
       "306                 0      True    RelatedST  (#16[0-9]{3})        ST  \n",
       "307                 0      True    RelatedST  (#16[0-9]{3})        ST  \n",
       "308                 0      True    RelatedST  (#16[0-9]{3})        ST  \n",
       "309                 0      True    RelatedST  (#16[0-9]{3})        ST  \n",
       "310                 0      True    RelatedST  (#16[0-9]{3})        ST  \n",
       "\n",
       "[311 rows x 26 columns]"
      ]
     },
     "execution_count": 7,
     "metadata": {},
     "output_type": "execute_result"
    }
   ],
   "source": [
    "event_table = myh5.get_event_table(MKPY_DIR / (\"stmath.ytbl\"))\n",
    "## Look at the event table you just made\n",
    "event_table.head(312)"
   ]
  },
  {
   "cell_type": "markdown",
   "metadata": {},
   "source": [
    "## Set epochs\n",
    "[set_epochs](https://kutaslab.github.io/mkpy/source/mkpy.mkh5.html#mkpy.mkh5.mkh5.set_epochs): Pull out epochs in the data. Does not save them yet.\n",
    "* First argument is the name of the epochs table\n",
    "* Second argument is the event table you made (not the code map)\n",
    "* Third and fourth argument is the window you want the epoct to have around 0"
   ]
  },
  {
   "cell_type": "code",
   "execution_count": 8,
   "metadata": {
    "execution": {
     "iopub.execute_input": "2020-08-25T02:10:31.121734Z",
     "iopub.status.busy": "2020-08-25T02:10:31.082980Z",
     "iopub.status.idle": "2020-08-25T02:10:32.710015Z",
     "shell.execute_reply": "2020-08-25T02:10:32.710842Z"
    },
    "scrolled": true
   },
   "outputs": [
    {
     "name": "stdout",
     "output_type": "stream",
     "text": [
      "Sanitizing event table data types for mkh5 epochs table ...\n"
     ]
    }
   ],
   "source": [
    "myh5.set_epochs('stmath', event_table, -100, 900) "
   ]
  },
  {
   "cell_type": "markdown",
   "metadata": {},
   "source": [
    "## Export epochs\n",
    "[export_epochs](https://kutaslab.github.io/mkpy/source/mkpy.mkh5.html#mkpy.mkh5.mkh5.export_epochs): save the epoched data to use later. Can be in h5, pdh5 (pandas), or feather format.\n",
    "* First argument is the epochs table\n",
    "* Second argument is the file name to save to (set above in the file names section)\n",
    "* Third argument is what you want to save as"
   ]
  },
  {
   "cell_type": "code",
   "execution_count": 9,
   "metadata": {
    "execution": {
     "iopub.execute_input": "2020-08-25T02:10:32.717901Z",
     "iopub.status.busy": "2020-08-25T02:10:32.716903Z",
     "iopub.status.idle": "2020-08-25T02:10:34.907856Z",
     "shell.execute_reply": "2020-08-25T02:10:34.908533Z"
    },
    "tags": [
     "full-width",
     "output_scroll"
    ]
   },
   "outputs": [],
   "source": [
    "myh5.export_epochs('stmath', epochtable, file_format='h5')"
   ]
  }
 ],
 "metadata": {
  "celltoolbar": "Edit Metadata",
  "kernelspec": {
   "display_name": "Python 3",
   "language": "python",
   "name": "python3"
  },
  "language_info": {
   "codemirror_mode": {
    "name": "ipython",
    "version": 3
   },
   "file_extension": ".py",
   "mimetype": "text/x-python",
   "name": "python",
   "nbconvert_exporter": "python",
   "pygments_lexer": "ipython3",
   "version": "3.6.10"
  },
  "tags": [
   "output_scroll",
   "full-width"
  ]
 },
 "nbformat": 4,
 "nbformat_minor": 2
}